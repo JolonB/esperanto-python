{
 "cells": [
  {
   "cell_type": "code",
   "execution_count": 1,
   "metadata": {},
   "outputs": [],
   "source": [
    "%load_ext hebrew_python"
   ]
  },
  {
   "cell_type": "code",
   "execution_count": 2,
   "metadata": {},
   "outputs": [
    {
     "name": "stdout",
     "output_type": "stream",
     "text": [
      "שלום\n"
     ]
    }
   ],
   "source": [
    "הראה(\"שלום\") # print \"שלום\" because (הראה=> print) "
   ]
  },
  {
   "cell_type": "code",
   "execution_count": 3,
   "metadata": {},
   "outputs": [
    {
     "name": "stdout",
     "output_type": "stream",
     "text": [
      "10\n",
      "20\n",
      "30\n",
      "40\n",
      "50\n",
      "60\n",
      "70\n",
      "80\n",
      "90\n"
     ]
    }
   ],
   "source": [
    "# for loop:\n",
    "לכל מספר בתוך טווח(1,10): # the hebrew_python transform this code to `for מספר in range(1,10)`\n",
    "    הראה(מספר*10) # print the number*10"
   ]
  },
  {
   "cell_type": "code",
   "execution_count": 4,
   "metadata": {
    "scrolled": true
   },
   "outputs": [
    {
     "ename": "NameError",
     "evalue": "name 'הראי' is not defined",
     "output_type": "error",
     "traceback": [
      "\u001b[0;31m---------------------------------------------------------------------------\u001b[0m",
      "\u001b[0;31mNameError\u001b[0m                                 Traceback (most recent call last)",
      "\u001b[0;31mNameError\u001b[0m: name 'הראי' is not defined"
     ]
    },
    {
     "data": {
      "text/markdown": [
       "A `NameError` exception indicates that a variable or\n",
       "function name is not known to Python.\n",
       "Most often, this is because there is a spelling mistake.\n",
       "However, sometimes it is because the name is used\n",
       "before being defined or given a value.\n",
       "\n",
       "\n",
       "Did you mean `הראה`?\n",
       "\n",
       "In your program, no object with the name `הראי` exists.\n",
       "The Python builtin `הראה` has a similar name.\n"
      ],
      "text/plain": [
       "<IPython.core.display.Markdown object>"
      ]
     },
     "metadata": {},
     "output_type": "display_data"
    },
    {
     "name": "stdout",
     "output_type": "stream",
     "text": [
      "סיימת את הדוגמא\n"
     ]
    }
   ],
   "source": [
    "# דוגמא לתפיסת שגיאה\n",
    "נסה: # => try\n",
    "    הראי(\"צריך להיות כתוב כאן הראה\")\n",
    "תפוס שגיאת_שם: # => except NameError (because there is nameerror a.hepy. )\n",
    "    מתוך בנוי.שגיאות יבא הראה_שגיאה\n",
    " \n",
    "    הראה_שגיאה()\n",
    "הראה(\"סיימת את הדוגמא\")"
   ]
  }
 ],
 "metadata": {
  "kernelspec": {
   "display_name": "Python 3 (ipykernel)",
   "language": "python",
   "name": "python3"
  },
  "language_info": {
   "codemirror_mode": {
    "name": "ipython",
    "version": 3
   },
   "file_extension": ".py",
   "mimetype": "text/x-python",
   "name": "python",
   "nbconvert_exporter": "python",
   "pygments_lexer": "ipython3",
   "version": "3.8.10"
  }
 },
 "nbformat": 4,
 "nbformat_minor": 4
}
